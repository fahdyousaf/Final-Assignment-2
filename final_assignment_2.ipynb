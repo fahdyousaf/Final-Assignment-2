{
 "cells": [
  {
   "cell_type": "markdown",
   "id": "dd48d667-02e7-4048-971b-38886eec1fc1",
   "metadata": {
    "tags": []
   },
   "source": [
    "<h1>My Jupyter Notebook on IBM Watson Studio</h1>"
   ]
  },
  {
   "cell_type": "markdown",
   "id": "e34978e8-838e-477f-8f63-dfd82af62e29",
   "metadata": {},
   "source": [
    "**FAHAD YOUSAF K** , DATA SCIENTIST"
   ]
  },
  {
   "cell_type": "markdown",
   "id": "c85c3fad-b184-4d35-aa21-9c1fabc4c895",
   "metadata": {},
   "source": [
    "*I am interested in data science because i like working with data . Also , Data science is the sexiest job in 21st century*"
   ]
  },
  {
   "cell_type": "markdown",
   "id": "d8194f13-8ba4-41db-868a-37a354c01e42",
   "metadata": {},
   "source": [
    "<h3>Print the text \"Hello World\" </h3>"
   ]
  },
  {
   "cell_type": "code",
   "execution_count": 2,
   "id": "f13d556a-c543-4859-bb92-b404d5f5471b",
   "metadata": {},
   "outputs": [
    {
     "name": "stdout",
     "output_type": "stream",
     "text": [
      "Hello World\n"
     ]
    }
   ],
   "source": [
    "print(\"Hello World\")"
   ]
  },
  {
   "cell_type": "markdown",
   "id": "0bf17240-ee69-42ad-997a-c5bb6b96a75b",
   "metadata": {},
   "source": [
    "* Python\n",
    "* Java\n",
    "* <a id=\"section_id\">Scala</a>\n",
    "1. Data science"
   ]
  },
  {
   "cell_type": "code",
   "execution_count": null,
   "id": "e990f3d5-b43d-43f1-a921-2c8d9b4bc753",
   "metadata": {},
   "outputs": [],
   "source": []
  }
 ],
 "metadata": {
  "kernelspec": {
   "display_name": "Python",
   "language": "python",
   "name": "conda-env-python-py"
  },
  "language_info": {
   "codemirror_mode": {
    "name": "ipython",
    "version": 3
   },
   "file_extension": ".py",
   "mimetype": "text/x-python",
   "name": "python",
   "nbconvert_exporter": "python",
   "pygments_lexer": "ipython3",
   "version": "3.7.12"
  }
 },
 "nbformat": 4,
 "nbformat_minor": 5
}
